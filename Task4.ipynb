{
 "cells": [
  {
   "cell_type": "code",
   "execution_count": 4,
   "id": "cd35f9ee-8c11-456b-adad-5d62b63376d0",
   "metadata": {},
   "outputs": [
    {
     "name": "stdout",
     "output_type": "stream",
     "text": [
      "Top 5 movies similar to 'Cars 2':\n",
      "Cars\n",
      "Ice Age: Continental Drift\n",
      "The Croods\n",
      "The Adventures of Rocky & Bullwinkle\n",
      "Herbie Fully Loaded\n"
     ]
    }
   ],
   "source": [
    "# Step 1: Import Libraries\n",
    "import pandas as pd\n",
    "import numpy as np\n",
    "import ast\n",
    "from sklearn.feature_extraction.text import CountVectorizer\n",
    "from sklearn.metrics.pairwise import cosine_similarity\n",
    "\n",
    "# Step 2: Load Datasets\n",
    "movies = pd.read_csv(\"tmdb_5000_movies.csv\")\n",
    "credits = pd.read_csv(\"tmdb_5000_credits.csv\")\n",
    "\n",
    "# Step 3: Merge the data on 'title'\n",
    "movies = movies.merge(credits, on='title')\n",
    "\n",
    "# Step 4: Select required columns\n",
    "movies = movies[['movie_id', 'title', 'overview', 'genres', 'keywords', 'cast', 'crew']]\n",
    "movies.dropna(inplace=True)\n",
    "\n",
    "# Step 5: Convert JSON-like strings into Python objects\n",
    "def convert(obj):\n",
    "    L = []\n",
    "    for i in ast.literal_eval(obj):\n",
    "        L.append(i['name'])\n",
    "    return L\n",
    "\n",
    "movies['genres'] = movies['genres'].apply(convert)\n",
    "movies['keywords'] = movies['keywords'].apply(convert)\n",
    "\n",
    "# Get top 3 cast members\n",
    "def get_top_cast(obj):\n",
    "    L = []\n",
    "    count = 0\n",
    "    for i in ast.literal_eval(obj):\n",
    "        if count < 3:\n",
    "            L.append(i['name'])\n",
    "            count += 1\n",
    "        else:\n",
    "            break\n",
    "    return L\n",
    "\n",
    "movies['cast'] = movies['cast'].apply(get_top_cast)\n",
    "\n",
    "# Get the director's name\n",
    "def get_director(obj):\n",
    "    for i in ast.literal_eval(obj):\n",
    "        if i['job'] == 'Director':\n",
    "            return i['name']\n",
    "    return \"\"\n",
    "\n",
    "movies['crew'] = movies['crew'].apply(get_director)\n",
    "\n",
    "# Step 6: Preprocess features\n",
    "movies['overview'] = movies['overview'].apply(lambda x: x.split())\n",
    "movies['genres'] = movies['genres'].apply(lambda x: [i.replace(\" \", \"\") for i in x])\n",
    "movies['keywords'] = movies['keywords'].apply(lambda x: [i.replace(\" \", \"\") for i in x])\n",
    "movies['cast'] = movies['cast'].apply(lambda x: [i.replace(\" \", \"\") for i in x])\n",
    "movies['crew'] = movies['crew'].apply(lambda x: x.replace(\" \", \"\"))\n",
    "\n",
    "# Step 7: Create tags column\n",
    "movies['tags'] = movies['overview'] + movies['genres'] + movies['keywords'] + movies['cast']\n",
    "movies['tags'] = movies['tags'] + movies['crew'].apply(lambda x: [x])\n",
    "new_df = movies[['movie_id', 'title', 'tags']]\n",
    "new_df.loc[:, 'tags'] = new_df['tags'].apply(lambda x: \" \".join(x))\n",
    "\n",
    "\n",
    "# Step 8: Vectorization\n",
    "cv = CountVectorizer(max_features=5000, stop_words='english')\n",
    "vectors = cv.fit_transform(new_df['tags']).toarray()\n",
    "\n",
    "# Step 9: Cosine similarity\n",
    "similarity = cosine_similarity(vectors)\n",
    "\n",
    "# Step 10: Recommendation function\n",
    "def recommend(movie):\n",
    "    movie = movie.lower()\n",
    "    if movie not in new_df['title'].str.lower().values:\n",
    "        print(\"Movie not found.\")\n",
    "        return\n",
    "    idx = new_df[new_df['title'].str.lower() == movie].index[0]\n",
    "    distances = list(enumerate(similarity[idx]))\n",
    "    movies_list = sorted(distances, key=lambda x: x[1], reverse=True)[1:6]\n",
    "\n",
    "    print(f\"Top 5 movies similar to '{new_df.iloc[idx].title}':\")\n",
    "    for i in movies_list:\n",
    "        print(new_df.iloc[i[0]].title)\n",
    "\n",
    "# Step 11: Try it!\n",
    "recommend(\"Cars 2\")\n"
   ]
  },
  {
   "cell_type": "code",
   "execution_count": 5,
   "id": "71108679-0736-45cf-807f-f2cc6bc348ef",
   "metadata": {},
   "outputs": [
    {
     "name": "stdout",
     "output_type": "stream",
     "text": [
      "C:\\Users\\bhavy\\OneDrive\\Desktop\\Bhavya\\Intern\\TASK 4\n"
     ]
    }
   ],
   "source": [
    "import os\n",
    "print(os.getcwd())\n"
   ]
  }
 ],
 "metadata": {
  "kernelspec": {
   "display_name": "Python 3 (ipykernel)",
   "language": "python",
   "name": "python3"
  },
  "language_info": {
   "codemirror_mode": {
    "name": "ipython",
    "version": 3
   },
   "file_extension": ".py",
   "mimetype": "text/x-python",
   "name": "python",
   "nbconvert_exporter": "python",
   "pygments_lexer": "ipython3",
   "version": "3.12.7"
  }
 },
 "nbformat": 4,
 "nbformat_minor": 5
}
